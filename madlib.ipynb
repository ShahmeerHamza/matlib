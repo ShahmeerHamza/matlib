{
  "nbformat": 4,
  "nbformat_minor": 0,
  "metadata": {
    "colab": {
      "provenance": [],
      "authorship_tag": "ABX9TyNGeWtk9HTZfEWeqLeWFAUD",
      "include_colab_link": true
    },
    "kernelspec": {
      "name": "python3",
      "display_name": "Python 3"
    },
    "language_info": {
      "name": "python"
    }
  },
  "cells": [
    {
      "cell_type": "markdown",
      "metadata": {
        "id": "view-in-github",
        "colab_type": "text"
      },
      "source": [
        "<a href=\"https://colab.research.google.com/github/ShahmeerHamza/matlib/blob/main/madlib.ipynb\" target=\"_parent\"><img src=\"https://colab.research.google.com/assets/colab-badge.svg\" alt=\"Open In Colab\"/></a>"
      ]
    },
    {
      "cell_type": "markdown",
      "source": [
        "# **Matlib**"
      ],
      "metadata": {
        "id": "IE5HzX-LFtrX"
      }
    },
    {
      "cell_type": "code",
      "execution_count": null,
      "metadata": {
        "id": "Jgi4ZhJ53SRY"
      },
      "outputs": [],
      "source": [
        "sentence_forms_list = [\n",
        "\"Proper Noun (Person’s Name)\",\n",
        "\"Noun\",\n",
        "\"Adjective (Feeling)\",\n",
        "\"Verb\",\n",
        "\"Adjective (Feeling)\",\n",
        "\"Animal\",\n",
        "\"Verb\",\n",
        "\"Color\",\n",
        "\"Verb (ending in ing)\",\n",
        "\"Adverb (ending in ly)\",\n",
        "\"Number\",\n",
        "\"Measure of Time\",\n",
        "\"Color\",\n",
        "\"Animal\",\n",
        "\"Number\",\n",
        "\"Silly Word\",\n",
        "\"Noun\"]"
      ]
    },
    {
      "cell_type": "code",
      "source": [
        "def start_matlib():\n",
        "  fill_sentence_forms_list = []\n",
        "  for sentence_form in sentence_forms_list:\n",
        "    fill_sentence_form = input(f\"Please enter {sentence_form}\")\n",
        "    fill_sentence_forms_list.append(fill_sentence_form)\n",
        "\n",
        "  fill_sentence_forms_list = tuple(fill_sentence_forms_list)\n",
        "\n",
        "  matlib = '''This weekend I am going camping with {}. I packed my lantern, sleeping bag, and\n",
        "  {} . I am so {} to {} in a tent. I am {} we\n",
        "  might see a {}, they are kind of dangerous. We are going to hike, fish, and {}.\n",
        "  I have heard that the {} lake is great for {}. Then we will\n",
        "  {} hike through the forest for {} {}. If I see a\n",
        "  {} {} while hiking, I am going to bring it home as a pet! At night we will tell\n",
        "  {} {} stories and roast {} around the campfire!!'''.format(*fill_sentence_forms_list)\n",
        "  print(matlib)"
      ],
      "metadata": {
        "id": "tT59niwN6Sjd"
      },
      "execution_count": null,
      "outputs": []
    },
    {
      "cell_type": "code",
      "source": [
        "fesesfestart_matlib()"
      ],
      "metadata": {
        "colab": {
          "base_uri": "https://localhost:8080/"
        },
        "id": "70K8RW_u-ASH",
        "outputId": "3e1fa172-43c9-4618-c6fc-da71ff63f357"
      },
      "execution_count": null,
      "outputs": [
        {
          "output_type": "stream",
          "name": "stdout",
          "text": [
            "Please enter Proper Noun (Person’s Name)ffsd\n",
            "Please enter Nounsfds\n",
            "Please enter Adjective (Feeling)sgfsd\n",
            "Please enter Verbvv\n",
            "Please enter Adjective (Feeling)dfs\n",
            "Please enter Animalrweg\n",
            "Please enter Verbffdsf\n",
            "Please enter Colorsfs\n",
            "Please enter Verb (ending in ing)sffs\n",
            "Please enter Adverb (ending in ly)se\n",
            "Please enter Numberfseffse\n",
            "Please enter Measure of Timefesfe\n",
            "Please enter Colorfsefse\n",
            "Please enter Animalsfesf\n",
            "Please enter Numberesf\n",
            "Please enter Silly Wordfse\n",
            "Please enter Noun\n",
            "This weekend I am going camping with ffsd. I packed my lantern, sleeping bag, and\n",
            "  sfds . I am so sgfsd to vv in a tent. I am dfs we\n",
            "  might see a rweg, they are kind of dangerous. We are going to hike, fish, and ffdsf.\n",
            "  I have heard that the sfs lake is great for sffs. Then we will\n",
            "  se hike through the forest for fseffse fesfe. If I see a\n",
            "  fsefse sfesf while hiking, I am going to bring it home as a pet! At night we will tell\n",
            "  esf fse stories and roast  around the campfire!!\n"
          ]
        }
      ]
    },
    {
      "cell_type": "code",
      "source": [],
      "metadata": {
        "id": "2q8FmAPcGCCc"
      },
      "execution_count": null,
      "outputs": []
    }
  ]
}